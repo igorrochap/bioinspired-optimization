{
  "nbformat": 4,
  "nbformat_minor": 0,
  "metadata": {
    "colab": {
      "provenance": []
    },
    "kernelspec": {
      "name": "python3",
      "display_name": "Python 3"
    }
  },
  "cells": [
    {
      "cell_type": "code",
      "metadata": {
        "id": "uQqH1mqSZXzv"
      },
      "source": [
        "import random\n",
        "import numpy as np\n",
        "import math as math\n",
        "\n",
        "def converToBin(population,width):\n",
        "  populationBin = []\n",
        "  for individual in population:\n",
        "    varBin = ''\n",
        "    for variable in individual:\n",
        "      varBin += np.binary_repr(variable, width)\n",
        "    populationBin.append(varBin)\n",
        "  return populationBin\n",
        "\n",
        "def initialPopulation(populationSize, upperBound, lowerBound, bitWidth):\n",
        "  population = []\n",
        "  numberVar = len(upperBound)\n",
        "  for i in range(populationSize):\n",
        "    individual = []\n",
        "    for v in range(numberVar):\n",
        "      individual.append(random.randint(lowerBound[v], upperBound[v]))\n",
        "    population.append(individual)\n",
        "  return converToBin(population,bitWidth)"
      ],
      "execution_count": 1,
      "outputs": []
    },
    {
      "cell_type": "code",
      "metadata": {
        "id": "sf-acuwZkerA"
      },
      "source": [
        "def exampleProblem(individual):\n",
        "  value = int(individual, 2)\n",
        "  return math.sin(math.pi*value/256)\n",
        "\n",
        "def avalFitness(population):\n",
        "    populationFitness = []\n",
        "    for individual in population:\n",
        "      populationFitness.append(exampleProblem(individual))\n",
        "    return populationFitness"
      ],
      "execution_count": 2,
      "outputs": []
    },
    {
      "cell_type": "code",
      "metadata": {
        "id": "E_eQuAGIly8A"
      },
      "source": [
        "def normalizeFitness(populationFitness):\n",
        "  fitnessSum = sum(populationFitness)\n",
        "  norm_fitness = []\n",
        "  for fitness in populationFitness:\n",
        "    norm_fitness.append(fitness/fitnessSum)\n",
        "  return norm_fitness\n",
        "\n",
        "def cumulativeFitness(normalizedFitness):\n",
        "    cumulativeFitness = []\n",
        "    cumulative = 0\n",
        "    for fitness in normalizedFitness:\n",
        "        cumulative = fitness + cumulative\n",
        "        cumulativeFitness.append(cumulative)\n",
        "    return cumulativeFitness\n",
        "\n",
        "def parents_selection(population, populationFitness):\n",
        "  normalizedFitness = normalizeFitness(populationFitness)\n",
        "  cFitness = cumulativeFitness(normalizedFitness)\n",
        "  parents = []\n",
        "\n",
        "  for i in range(len(population)):\n",
        "    rand = random.random()\n",
        "    for j in range(len(cFitness)):\n",
        "      if cFitness[j] >= rand:\n",
        "        parents.append(population[j])\n",
        "        break\n",
        "\n",
        "  return parents"
      ],
      "execution_count": 3,
      "outputs": []
    },
    {
      "cell_type": "code",
      "metadata": {
        "id": "6rsWRDsXmcgA"
      },
      "source": [
        "def selectPairs(parents):\n",
        "  pairs = []\n",
        "  for i in range(int(len(parents)/2)):\n",
        "    pair = []\n",
        "    pair.append(parents[random.randint(0,len(parents)-1)])\n",
        "    pair.append(parents[random.randint(0,len(parents)-1)])\n",
        "    pairs.append(pair)\n",
        "  return pairs\n",
        "\n",
        "def crossover(parents, crossoverProbability):\n",
        "  pairs = selectPairs(parents)\n",
        "  newPopulation = []\n",
        "  for pair in pairs:\n",
        "    if (random.random() > crossoverProbability):\n",
        "      newPopulation.append(pair[0])\n",
        "      newPopulation.append(pair[1])\n",
        "      continue\n",
        "\n",
        "    breakpoint1 = random.randint(1, len(pair[0])-1)\n",
        "    breakpoint2 = random.randint(1, len(pair[0])-1)\n",
        "\n",
        "    while breakpoint1 == breakpoint2:\n",
        "      breakpoint2 = random.randint(1, len(pair[0]))\n",
        "\n",
        "    if breakpoint1 < breakpoint2:\n",
        "      offspring1 = pair[0][0:breakpoint1] + pair[1][breakpoint1:breakpoint2] + pair[0][breakpoint2:]\n",
        "      offspring2 = pair[1][0:breakpoint1] + pair[0][breakpoint1:breakpoint2] + pair[1][breakpoint2:]\n",
        "    else:\n",
        "      offspring1 = pair[1][0:breakpoint2] + pair[0][breakpoint2:breakpoint1] + pair[1][breakpoint1:]\n",
        "      offspring2 = pair[0][0:breakpoint2] + pair[1][breakpoint2:breakpoint1] + pair[0][breakpoint1:]\n",
        "\n",
        "    newPopulation.append(offspring1)\n",
        "    newPopulation.append(offspring2)\n",
        "\n",
        "  return newPopulation"
      ],
      "execution_count": 4,
      "outputs": []
    },
    {
      "cell_type": "code",
      "metadata": {
        "id": "r_ffAPw1qgzZ"
      },
      "source": [
        "def mutation(population,mutationProbability):\n",
        "  newPop = []\n",
        "  for individual in population:\n",
        "    listInd = list(individual)\n",
        "    for i in range(len(listInd)):\n",
        "      if random.random() < mutationProbability:\n",
        "        if listInd[i] == '0':\n",
        "          listInd[i] = '1'\n",
        "        else:\n",
        "          listInd[i] = '0'\n",
        "    newPop.append(''.join(listInd))\n",
        "  return newPop"
      ],
      "execution_count": 5,
      "outputs": []
    },
    {
      "cell_type": "code",
      "metadata": {
        "id": "zel-fczmtYrB"
      },
      "source": [
        "def GA(upperBound,lowerBound,bitWidth=8,max_iterations=20,crossoverProb=0.8,mutationProb=0.01,populationSize=50):\n",
        "  population = initialPopulation(populationSize,upperBound,lowerBound,bitWidth)\n",
        "  current_iteration = 0\n",
        "  while(current_iteration < max_iterations):\n",
        "    populationFitness = avalFitness(population)\n",
        "\n",
        "    print('#', current_iteration, ' Best fitness = ', max(populationFitness), '  ', int(population[populationFitness.index(max(populationFitness))], base=2))\n",
        "\n",
        "    parents = parents_selection(population,populationFitness)\n",
        "    population = crossover(parents, crossoverProb)\n",
        "    population = mutation(population, mutationProb)\n",
        "\n",
        "    current_iteration += 1\n",
        "  return"
      ],
      "execution_count": 6,
      "outputs": []
    },
    {
      "cell_type": "code",
      "metadata": {
        "id": "EgVPMm13bH_O",
        "colab": {
          "base_uri": "https://localhost:8080/"
        },
        "outputId": "d0b3ffae-2e8a-4ae9-899f-2cb7baafde48"
      },
      "source": [
        "lowerBound = [0]\n",
        "upperBound = [256]\n",
        "GA(upperBound,lowerBound,populationSize=8)"
      ],
      "execution_count": 7,
      "outputs": [
        {
          "output_type": "stream",
          "name": "stdout",
          "text": [
            "# 0  Best fitness =  0.99090263542778    117\n",
            "# 1  Best fitness =  0.99090263542778    117\n",
            "# 2  Best fitness =  0.99090263542778    117\n",
            "# 3  Best fitness =  0.99090263542778    117\n",
            "# 4  Best fitness =  0.99090263542778    117\n",
            "# 5  Best fitness =  0.9456073253805213    101\n",
            "# 6  Best fitness =  0.9456073253805213    101\n",
            "# 7  Best fitness =  0.9456073253805213    101\n",
            "# 8  Best fitness =  0.9456073253805213    101\n",
            "# 9  Best fitness =  0.9456073253805213    101\n",
            "# 10  Best fitness =  0.9456073253805213    101\n",
            "# 11  Best fitness =  0.9456073253805213    101\n",
            "# 12  Best fitness =  0.9456073253805213    101\n",
            "# 13  Best fitness =  0.9456073253805213    101\n",
            "# 14  Best fitness =  0.9533060403541938    103\n",
            "# 15  Best fitness =  0.99090263542778    117\n",
            "# 16  Best fitness =  0.9456073253805213    101\n",
            "# 17  Best fitness =  0.9456073253805213    101\n",
            "# 18  Best fitness =  0.9456073253805213    101\n",
            "# 19  Best fitness =  0.9456073253805213    101\n"
          ]
        }
      ]
    },
    {
      "cell_type": "markdown",
      "source": [
        "## 1. Mudar a representação de binário para \"Gray coding\""
      ],
      "metadata": {
        "id": "ELj86XTADHys"
      }
    },
    {
      "cell_type": "code",
      "metadata": {
        "id": "3EiyHTkUb0wm",
        "colab": {
          "base_uri": "https://localhost:8080/"
        },
        "outputId": "f46c9178-64c7-46f6-dc4c-03dbf14447bf"
      },
      "source": [
        "def converToBin(population,width):\n",
        "  populationBin = []\n",
        "  for individual in population:\n",
        "    varBin = ''\n",
        "    for variable in individual:\n",
        "      varBin += np.binary_repr(variable, width)\n",
        "    binary = int(varBin, 2)\n",
        "    binary ^= (binary >> 1)\n",
        "    populationBin.append(bin(binary)[2:])\n",
        "  return populationBin\n",
        "\n",
        "lowerBound = [0]\n",
        "upperBound = [256]\n",
        "GA(upperBound,lowerBound,populationSize=8)"
      ],
      "execution_count": 8,
      "outputs": [
        {
          "output_type": "stream",
          "name": "stdout",
          "text": [
            "# 0  Best fitness =  0.9987954562051724    124\n",
            "# 1  Best fitness =  0.9993223845883495    125\n",
            "# 2  Best fitness =  0.9729399522055601    109\n",
            "# 3  Best fitness =  0.9757021300385286    110\n",
            "# 4  Best fitness =  0.9637760657954398    106\n",
            "# 5  Best fitness =  0.6715589548470186    196\n",
            "# 6  Best fitness =  0.6531728429537766    198\n",
            "# 7  Best fitness =  0.6531728429537766    198\n",
            "# 8  Best fitness =  0.9972904566786902    134\n",
            "# 9  Best fitness =  0.6531728429537766    198\n",
            "# 10  Best fitness =  0.9972904566786902    134\n",
            "# 11  Best fitness =  0.6531728429537766    198\n",
            "# 12  Best fitness =  0.689540544737067    194\n",
            "# 13  Best fitness =  0.689540544737067    194\n",
            "# 14  Best fitness =  0.689540544737067    194\n",
            "# 15  Best fitness =  0.9972904566786902    134\n",
            "# 16  Best fitness =  0.9972904566786902    134\n",
            "# 17  Best fitness =  0.9972904566786902    134\n",
            "# 18  Best fitness =  0.9972904566786902    134\n",
            "# 19  Best fitness =  0.9972904566786902    134\n"
          ]
        }
      ]
    },
    {
      "cell_type": "markdown",
      "source": [
        "## 2. Trocar a seleção dos pais para ser feito por meio de “Tournament selection”"
      ],
      "metadata": {
        "id": "jCWZgZxwEr67"
      }
    },
    {
      "cell_type": "code",
      "source": [
        "def tournament_selection(population, population_fitness):\n",
        "  parents = []\n",
        "  for i in range(len(population)):\n",
        "    first_index = random.randint(0, len(population) - 1)\n",
        "    second_index = random.randint(0, len(population) - 1)\n",
        "    first_individual_fitness = population_fitness[first_index]\n",
        "    second_individual_fitness = population_fitness[second_index]\n",
        "    if (first_individual_fitness > second_individual_fitness):\n",
        "      parents.append(population[first_index])\n",
        "      continue\n",
        "    parents.append(population[second_index])\n",
        "  return parents\n",
        "\n",
        "def GA(upperBound, lowerBound, bitWidth=8, max_iterations=20, crossoverProb=0.8,\n",
        "       mutationProb=0.01,populationSize=50):\n",
        "  population = initialPopulation(populationSize,upperBound,lowerBound,bitWidth)\n",
        "  current_iteration = 0\n",
        "  while(current_iteration < max_iterations):\n",
        "    populationFitness = avalFitness(population)\n",
        "\n",
        "    print('#', current_iteration, ' Best fitness = ', max(populationFitness), '  ', int(population[populationFitness.index(max(populationFitness))], base=2))\n",
        "\n",
        "    parents = tournament_selection(population, populationFitness)\n",
        "    population = crossover(parents, crossoverProb)\n",
        "    population = mutation(population, mutationProb)\n",
        "\n",
        "    current_iteration += 1\n",
        "  return\n",
        "\n",
        "lowerBound = [0]\n",
        "upperBound = [256]\n",
        "GA(upperBound, lowerBound, populationSize = 8)"
      ],
      "metadata": {
        "colab": {
          "base_uri": "https://localhost:8080/"
        },
        "id": "Ac2PYTwG2MOV",
        "outputId": "cbe12a91-eb7e-4da9-9dce-6599426f4c8f"
      },
      "execution_count": 9,
      "outputs": [
        {
          "output_type": "stream",
          "name": "stdout",
          "text": [
            "# 0  Best fitness =  1.0    128\n",
            "# 1  Best fitness =  1.0    128\n",
            "# 2  Best fitness =  0.989176509964781    140\n",
            "# 3  Best fitness =  0.989176509964781    140\n",
            "# 4  Best fitness =  0.989176509964781    140\n",
            "# 5  Best fitness =  0.989176509964781    140\n",
            "# 6  Best fitness =  0.989176509964781    140\n",
            "# 7  Best fitness =  0.989176509964781    140\n",
            "# 8  Best fitness =  0.989176509964781    140\n",
            "# 9  Best fitness =  0.9987954562051724    132\n",
            "# 10  Best fitness =  0.9987954562051724    132\n",
            "# 11  Best fitness =  0.9987954562051724    132\n",
            "# 12  Best fitness =  1.0    128\n",
            "# 13  Best fitness =  1.0    128\n",
            "# 14  Best fitness =  1.0    128\n",
            "# 15  Best fitness =  1.0    128\n",
            "# 16  Best fitness =  1.0    128\n",
            "# 17  Best fitness =  1.0    128\n",
            "# 18  Best fitness =  1.0    128\n",
            "# 19  Best fitness =  1.0    128\n"
          ]
        }
      ]
    },
    {
      "cell_type": "markdown",
      "source": [
        "## 3. Trocar o crossover de dois pontos para o \"Uniform crossover\""
      ],
      "metadata": {
        "id": "nFCbraMr82rJ"
      }
    },
    {
      "cell_type": "code",
      "source": [
        "def get_offspring(parent1, parent2):\n",
        "  offspring = ''\n",
        "  for gene in enumerate(parent1):\n",
        "      should_change = random.randint(0, 1)\n",
        "      if (should_change == 1):\n",
        "        changing_index = gene[0]\n",
        "        if changing_index >= len(parent2):\n",
        "          offspring += gene[1]\n",
        "          continue\n",
        "        offspring += parent2[changing_index]\n",
        "        continue\n",
        "      offspring += gene[1]\n",
        "  return offspring\n",
        "\n",
        "def uniform_crossover(parents):\n",
        "  pairs = selectPairs(parents)\n",
        "  new_population = []\n",
        "  for pair in pairs:\n",
        "    offspring1 = get_offspring(pair[0], pair[1])\n",
        "    offspring2 = get_offspring(pair[1], pair[0])\n",
        "\n",
        "    new_population.append(offspring1)\n",
        "    new_population.append(offspring2)\n",
        "\n",
        "  return new_population\n",
        "\n",
        "\n",
        "def GA(upperBound, lowerBound, bitWidth=8, max_iterations=20, crossoverProb=0.8,\n",
        "       mutationProb=0.01,populationSize=50):\n",
        "  population = initialPopulation(populationSize,upperBound,lowerBound,bitWidth)\n",
        "  current_iteration = 0\n",
        "  while(current_iteration < max_iterations):\n",
        "    populationFitness = avalFitness(population)\n",
        "\n",
        "    print('#', current_iteration, ' Best fitness = ', max(populationFitness), '  ', int(population[populationFitness.index(max(populationFitness))], base=2))\n",
        "\n",
        "    parents = tournament_selection(population, populationFitness)\n",
        "    population = uniform_crossover(parents)\n",
        "    population = mutation(population, mutationProb)\n",
        "\n",
        "    current_iteration += 1\n",
        "  return\n",
        "\n",
        "lowerBound = [0]\n",
        "upperBound = [256]\n",
        "GA(upperBound, lowerBound, populationSize = 8)"
      ],
      "metadata": {
        "colab": {
          "base_uri": "https://localhost:8080/"
        },
        "id": "FuDmJOYQ85ZY",
        "outputId": "4a38bcf4-c0cd-4d46-8c4b-bf0f7f75447b"
      },
      "execution_count": 47,
      "outputs": [
        {
          "output_type": "stream",
          "name": "stdout",
          "text": [
            "# 0  Best fitness =  0.9873014181578584    115\n",
            "# 1  Best fitness =  0.9873014181578584    115\n",
            "# 2  Best fitness =  0.99090263542778    117\n",
            "# 3  Best fitness =  0.99090263542778    117\n",
            "# 4  Best fitness =  0.99090263542778    117\n",
            "# 5  Best fitness =  0.99090263542778    117\n",
            "# 6  Best fitness =  0.99090263542778    117\n",
            "# 7  Best fitness =  0.99090263542778    117\n",
            "# 8  Best fitness =  0.99090263542778    117\n",
            "# 9  Best fitness =  0.99090263542778    117\n",
            "# 10  Best fitness =  0.989176509964781    116\n",
            "# 11  Best fitness =  0.99247953459871    118\n",
            "# 12  Best fitness =  0.989176509964781    116\n",
            "# 13  Best fitness =  0.989176509964781    116\n",
            "# 14  Best fitness =  0.989176509964781    116\n",
            "# 15  Best fitness =  0.99247953459871    118\n",
            "# 16  Best fitness =  0.99247953459871    118\n",
            "# 17  Best fitness =  0.99247953459871    118\n",
            "# 18  Best fitness =  0.99247953459871    118\n",
            "# 19  Best fitness =  0.99247953459871    118\n"
          ]
        }
      ]
    },
    {
      "cell_type": "markdown",
      "source": [
        "## 4. Criar script que executa o GA com população de 10, 15 e 20 indivíduos"
      ],
      "metadata": {
        "id": "YO4c_73sox1F"
      }
    },
    {
      "cell_type": "code",
      "source": [
        "population_sizes = [10, 15, 20]\n",
        "\n",
        "lowerBound = [0]\n",
        "upperBound = [256]\n",
        "\n",
        "for size in population_sizes:\n",
        "  print(\"* Population with \"+ str(size) +\" individuals *\")\n",
        "  GA(upperBound, lowerBound, populationSize = size)\n",
        "  print(\"\")"
      ],
      "metadata": {
        "colab": {
          "base_uri": "https://localhost:8080/"
        },
        "id": "wODIQNDXcZcL",
        "outputId": "45abda71-e91a-4762-ebf4-242c75dcc3b5"
      },
      "execution_count": 40,
      "outputs": [
        {
          "output_type": "stream",
          "name": "stdout",
          "text": [
            "* Population with 10 individuals *\n",
            "# 0  Best fitness =  0.9999247018391445    129\n",
            "# 1  Best fitness =  0.9999247018391445    129\n",
            "# 2  Best fitness =  0.9999247018391445    129\n",
            "# 3  Best fitness =  0.9999247018391445    129\n",
            "# 4  Best fitness =  1.0    128\n",
            "# 5  Best fitness =  1.0    128\n",
            "# 6  Best fitness =  1.0    128\n",
            "# 7  Best fitness =  1.0    128\n",
            "# 8  Best fitness =  1.0    128\n",
            "# 9  Best fitness =  1.0    128\n",
            "# 10  Best fitness =  1.0    128\n",
            "# 11  Best fitness =  1.0    128\n",
            "# 12  Best fitness =  1.0    128\n",
            "# 13  Best fitness =  1.0    128\n",
            "# 14  Best fitness =  1.0    128\n",
            "# 15  Best fitness =  1.0    128\n",
            "# 16  Best fitness =  1.0    128\n",
            "# 17  Best fitness =  1.0    128\n",
            "# 18  Best fitness =  1.0    128\n",
            "# 19  Best fitness =  1.0    128\n",
            "\n",
            "* Population with 15 individuals *\n",
            "# 0  Best fitness =  0.99090263542778    117\n",
            "# 1  Best fitness =  0.9987954562051724    124\n",
            "# 2  Best fitness =  0.970031253194544    108\n",
            "# 3  Best fitness =  0.970031253194544    108\n",
            "# 4  Best fitness =  0.970031253194544    108\n",
            "# 5  Best fitness =  0.9569403357322089    104\n",
            "# 6  Best fitness =  0.9569403357322089    104\n",
            "# 7  Best fitness =  0.8819212643483549    88\n",
            "# 8  Best fitness =  0.8819212643483549    88\n",
            "# 9  Best fitness =  0.8819212643483549    88\n",
            "# 10  Best fitness =  0.8819212643483549    88\n",
            "# 11  Best fitness =  0.8932243011955153    90\n",
            "# 12  Best fitness =  0.8932243011955153    90\n",
            "# 13  Best fitness =  0.9039892931234433    92\n",
            "# 14  Best fitness =  0.9039892931234433    92\n",
            "# 15  Best fitness =  0.9142097557035307    94\n",
            "# 16  Best fitness =  0.9142097557035307    94\n",
            "# 17  Best fitness =  0.9142097557035307    94\n",
            "# 18  Best fitness =  0.9142097557035307    94\n",
            "# 19  Best fitness =  0.9996988186962042    126\n",
            "\n",
            "* Population with 20 individuals *\n",
            "# 0  Best fitness =  0.9981181129001492    123\n",
            "# 1  Best fitness =  0.9981181129001492    123\n",
            "# 2  Best fitness =  0.989176509964781    116\n",
            "# 3  Best fitness =  0.9939069700023561    119\n",
            "# 4  Best fitness =  0.99090263542778    117\n",
            "# 5  Best fitness =  0.99090263542778    117\n",
            "# 6  Best fitness =  0.9993223845883495    125\n",
            "# 7  Best fitness =  0.9993223845883495    125\n",
            "# 8  Best fitness =  0.9993223845883495    125\n",
            "# 9  Best fitness =  0.9993223845883495    125\n",
            "# 10  Best fitness =  0.9999247018391445    127\n",
            "# 11  Best fitness =  0.9999247018391445    127\n",
            "# 12  Best fitness =  0.9993223845883495    125\n",
            "# 13  Best fitness =  0.9993223845883495    125\n",
            "# 14  Best fitness =  0.9993223845883495    125\n",
            "# 15  Best fitness =  0.9999247018391445    127\n",
            "# 16  Best fitness =  0.9999247018391445    127\n",
            "# 17  Best fitness =  0.9999247018391445    127\n",
            "# 18  Best fitness =  0.9999247018391445    127\n",
            "# 19  Best fitness =  0.9999247018391445    127\n",
            "\n"
          ]
        }
      ]
    }
  ]
}